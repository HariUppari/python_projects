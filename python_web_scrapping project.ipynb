{
 "cells": [
  {
   "cell_type": "code",
   "execution_count": 1,
   "id": "c01bea72",
   "metadata": {},
   "outputs": [],
   "source": [
    "# import libraries \n",
    "\n",
    "from bs4 import BeautifulSoup\n",
    "import requests\n",
    "import time\n",
    "import datetime\n",
    "\n",
    "import smtplib\n"
   ]
  },
  {
   "cell_type": "code",
   "execution_count": 2,
   "id": "1a2331b8",
   "metadata": {},
   "outputs": [
    {
     "name": "stdout",
     "output_type": "stream",
     "text": [
      "\n",
      "                    Nike mens Revolution 6 Road Running\n",
      "                   \n"
     ]
    }
   ],
   "source": [
    "URL = 'https://www.amazon.com/Nike-Revolution-6-Nn-Mens/dp/B098PBXC8P/ref=sr_1_3?crid=35BBF3I10DQJG&dib=eyJ2IjoiMSJ9.Sv-RTe5d_vuYmoAXNLibWRNswRlO6g3IfuezST-tiTSB58mU9YE66fZBc-qcoeY9JUKiOHEz44SBmLt250jFxUUjvIj47jrKz-sLW7Odzu0NaWmjXTgKIYosVPJpjRiGT3S4Yg-X7CnVY-WwZpREVmIABxaksKK48h9KOp3lxGHkcVUid215DFT0JpM-CCG_UmsBTdHlceORI9FFzBwpc5wSKpvQVrH75fHQUcsmFHJvI9A9DM_-UUcXpQkarolzqk55s8EOltzYHuXhsfRFOO-pY3W99_x9ZW_TCCql2xg.xK15zODI4iOV7xzN7JiLRpq_ecvYLEqMGOODTV_YKz4&dib_tag=se&keywords=mens+nike+shoes&qid=1716595934&sprefix=mens+nike+shoes%2Caps%2C158&sr=8-3'\n",
    "headers = {\"User-Agent\": \"Mozilla/5.0 (Windows NT 10.0; Win64; x64) AppleWebKit/537.36 (KHTML, like Gecko) Chrome/124.0.0.0 Safari/537.36\", \"Accept-Encoding\":\"gzip, deflate\", \"Accept\":\"text/html,application/xhtml+xml,application/xml;q=0.9,*/*;q=0.8\", \"DNT\":\"1\",\"Connection\":\"close\", \"Upgrade-Insecure-Requests\":\"1\"}\n",
    "page = requests.get(URL, headers=headers)\n",
    "\n",
    "soup1 = BeautifulSoup(page.content, \"html.parser\")\n",
    "\n",
    "soup2 = BeautifulSoup(soup1.prettify(), \"html.parser\")\n",
    "\n",
    "title = soup2.find(id='productTitle').get_text()\n",
    "\n",
    "#price = soup2.find(id='priceblock_ourprice').get_text()\n",
    "\n",
    "\n",
    "print(title)\n",
    "#print(price)\n",
    "\n"
   ]
  },
  {
   "cell_type": "code",
   "execution_count": 3,
   "id": "1b031578",
   "metadata": {},
   "outputs": [
    {
     "name": "stdout",
     "output_type": "stream",
     "text": [
      "Nike mens Revolution 6 Road Running\n"
     ]
    }
   ],
   "source": [
    "title = title.strip()\n",
    "print(title)"
   ]
  },
  {
   "cell_type": "code",
   "execution_count": 4,
   "id": "ea0fa073",
   "metadata": {},
   "outputs": [
    {
     "name": "stdout",
     "output_type": "stream",
     "text": [
      "2024-05-24\n"
     ]
    }
   ],
   "source": [
    "# Create a Timestamp for your output to track when data was collected\n",
    "\n",
    "import datetime\n",
    "\n",
    "today = datetime.date.today()\n",
    "\n",
    "print(today)"
   ]
  },
  {
   "cell_type": "code",
   "execution_count": 5,
   "id": "a898819a",
   "metadata": {},
   "outputs": [],
   "source": [
    "# Create CSV and write headers and data into the file\n",
    "\n",
    "import csv \n",
    "\n",
    "header = ['Title',  'Date']\n",
    "data = [title,  today]\n",
    "\n",
    "\n",
    "with open('AmazonWebScraperDataset.csv', 'w', newline='', encoding='UTF8') as f:\n",
    "    writer = csv.writer(f)\n",
    "    writer.writerow(header)\n",
    "    writer.writerow(data)\n",
    "    \n"
   ]
  },
  {
   "cell_type": "code",
   "execution_count": null,
   "id": "4dfe00f9",
   "metadata": {},
   "outputs": [],
   "source": [
    "#with open('AmazonWebScraperDataset.csv', 'a+', newline='', encoding='UTF8') as f:\n",
    "#    writer = csv.writer(f)\n",
    "#    writer.writerow(data)"
   ]
  },
  {
   "cell_type": "code",
   "execution_count": 6,
   "id": "be6271db",
   "metadata": {},
   "outputs": [],
   "source": [
    "#Combine all of the above code into one function\n",
    "\n",
    "\n",
    "def product_dataset():\n",
    "    URL = 'https://www.amazon.com/Nike-Revolution-6-Nn-Mens/dp/B098PBXC8P/ref=sr_1_3?crid=35BBF3I10DQJG&dib=eyJ2IjoiMSJ9.Sv-RTe5d_vuYmoAXNLibWRNswRlO6g3IfuezST-tiTSB58mU9YE66fZBc-qcoeY9JUKiOHEz44SBmLt250jFxUUjvIj47jrKz-sLW7Odzu0NaWmjXTgKIYosVPJpjRiGT3S4Yg-X7CnVY-WwZpREVmIABxaksKK48h9KOp3lxGHkcVUid215DFT0JpM-CCG_UmsBTdHlceORI9FFzBwpc5wSKpvQVrH75fHQUcsmFHJvI9A9DM_-UUcXpQkarolzqk55s8EOltzYHuXhsfRFOO-pY3W99_x9ZW_TCCql2xg.xK15zODI4iOV7xzN7JiLRpq_ecvYLEqMGOODTV_YKz4&dib_tag=se&keywords=mens+nike+shoes&qid=1716595934&sprefix=mens+nike+shoes%2Caps%2C158&sr=8-3'\n",
    "    headers = {\"User-Agent\": \"Mozilla/5.0 (Windows NT 10.0; Win64; x64) AppleWebKit/537.36 (KHTML, like Gecko) Chrome/124.0.0.0 Safari/537.36\", \"Accept-Encoding\":\"gzip, deflate\", \"Accept\":\"text/html,application/xhtml+xml,application/xml;q=0.9,*/*;q=0.8\", \"DNT\":\"1\",\"Connection\":\"close\", \"Upgrade-Insecure-Requests\":\"1\"}\n",
    "    page = requests.get(URL, headers=headers)\n",
    "\n",
    "    soup1 = BeautifulSoup(page.content, \"html.parser\")\n",
    "\n",
    "    soup2 = BeautifulSoup(soup1.prettify(), \"html.parser\")\n",
    "\n",
    "    title = soup2.find(id='productTitle').get_text()\n",
    "\n",
    "    #price = soup2.find(id='priceblock_ourprice').get_text()\n",
    "\n",
    "\n",
    "    print(title)\n",
    "    #print(price)\n",
    "    title = title.strip()\n",
    "\n",
    "    import datetime\n",
    "\n",
    "    today = datetime.date.today()\n",
    "    \n",
    "    import csv \n",
    "\n",
    "    header = ['Title', 'Date']\n",
    "    data = [title, today]\n",
    "\n",
    "    with open('AmazonWebScraperDataset.csv', 'a+', newline='', encoding='UTF8') as f:  #Now we are appending data to the csv\n",
    "        writer = csv.writer(f)\n",
    "        writer.writerow(data)"
   ]
  },
  {
   "cell_type": "code",
   "execution_count": 7,
   "id": "db5b15aa",
   "metadata": {},
   "outputs": [
    {
     "name": "stdout",
     "output_type": "stream",
     "text": [
      "\n",
      "                    Nike mens Revolution 6 Road Running\n",
      "                   \n",
      "\n",
      "                    Nike mens Revolution 6 Road Running\n",
      "                   \n",
      "\n",
      "                    Nike mens Revolution 6 Road Running\n",
      "                   \n"
     ]
    },
    {
     "ename": "KeyboardInterrupt",
     "evalue": "",
     "output_type": "error",
     "traceback": [
      "\u001b[1;31m---------------------------------------------------------------------------\u001b[0m",
      "\u001b[1;31mKeyboardInterrupt\u001b[0m                         Traceback (most recent call last)",
      "Cell \u001b[1;32mIn[7], line 5\u001b[0m\n\u001b[0;32m      3\u001b[0m \u001b[38;5;28;01mwhile\u001b[39;00m(\u001b[38;5;28;01mTrue\u001b[39;00m):\n\u001b[0;32m      4\u001b[0m     product_dataset()\n\u001b[1;32m----> 5\u001b[0m     time\u001b[38;5;241m.\u001b[39msleep(\u001b[38;5;241m5\u001b[39m)\n",
      "\u001b[1;31mKeyboardInterrupt\u001b[0m: "
     ]
    }
   ],
   "source": [
    "# Runs check_price after a set time and inputs data into your CSV\n",
    "\n",
    "while(True):\n",
    "    product_dataset()\n",
    "    time.sleep(5)"
   ]
  },
  {
   "cell_type": "code",
   "execution_count": 8,
   "id": "755d73ad",
   "metadata": {},
   "outputs": [
    {
     "name": "stdout",
     "output_type": "stream",
     "text": [
      "                                 Title        Date\n",
      "0  Nike mens Revolution 6 Road Running  2024-05-24\n",
      "1  Nike mens Revolution 6 Road Running  2024-05-24\n",
      "2  Nike mens Revolution 6 Road Running  2024-05-24\n",
      "3  Nike mens Revolution 6 Road Running  2024-05-24\n"
     ]
    }
   ],
   "source": [
    "import pandas as pd\n",
    "\n",
    "df = pd.read_csv(r'C:\\Users\\harib\\Downloads\\my projects\\AmazonwebScraperDataset.csv')\n",
    "\n",
    "print(df)"
   ]
  },
  {
   "cell_type": "code",
   "execution_count": null,
   "id": "7f2753d9",
   "metadata": {},
   "outputs": [],
   "source": []
  }
 ],
 "metadata": {
  "kernelspec": {
   "display_name": "Python 3 (ipykernel)",
   "language": "python",
   "name": "python3"
  },
  "language_info": {
   "codemirror_mode": {
    "name": "ipython",
    "version": 3
   },
   "file_extension": ".py",
   "mimetype": "text/x-python",
   "name": "python",
   "nbconvert_exporter": "python",
   "pygments_lexer": "ipython3",
   "version": "3.11.5"
  }
 },
 "nbformat": 4,
 "nbformat_minor": 5
}
